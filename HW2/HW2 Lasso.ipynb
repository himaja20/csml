{
 "cells": [
  {
   "cell_type": "code",
   "execution_count": 5,
   "metadata": {
    "collapsed": true
   },
   "outputs": [],
   "source": [
    "import numpy as np\n",
    "from scipy.optimize import minimize\n"
   ]
  },
  {
   "cell_type": "code",
   "execution_count": 6,
   "metadata": {
    "collapsed": false
   },
   "outputs": [],
   "source": [
    "X = np.random.rand(150,75)\n",
    "(N,D) = X.shape"
   ]
  },
  {
   "cell_type": "code",
   "execution_count": 7,
   "metadata": {
    "collapsed": false
   },
   "outputs": [
    {
     "data": {
      "text/plain": [
       "array([ 10.,  10., -10., -10., -10., -10., -10.,  10.,  10.,  10.])"
      ]
     },
     "execution_count": 7,
     "metadata": {},
     "output_type": "execute_result"
    }
   ],
   "source": [
    "theta_1 = np.empty(5)\n",
    "theta_1.fill(10)\n",
    "\n",
    "theta_2 = np.empty(5)\n",
    "theta_2.fill(-10)\n",
    "\n",
    "theta = np.hstack((theta_1,theta_2))\n",
    "np.random.shuffle(theta)\n",
    "\n",
    "theta\n"
   ]
  },
  {
   "cell_type": "code",
   "execution_count": 8,
   "metadata": {
    "collapsed": false
   },
   "outputs": [
    {
     "data": {
      "text/plain": [
       "array([ 10.,  10., -10., -10., -10., -10., -10.,  10.,  10.,  10.,   0.,\n",
       "         0.,   0.,   0.,   0.,   0.,   0.,   0.,   0.,   0.,   0.,   0.,\n",
       "         0.,   0.,   0.,   0.,   0.,   0.,   0.,   0.,   0.,   0.,   0.,\n",
       "         0.,   0.,   0.,   0.,   0.,   0.,   0.,   0.,   0.,   0.,   0.,\n",
       "         0.,   0.,   0.,   0.,   0.,   0.,   0.,   0.,   0.,   0.,   0.,\n",
       "         0.,   0.,   0.,   0.,   0.,   0.,   0.,   0.,   0.,   0.,   0.,\n",
       "         0.,   0.,   0.,   0.,   0.,   0.,   0.,   0.,   0.])"
      ]
     },
     "execution_count": 8,
     "metadata": {},
     "output_type": "execute_result"
    }
   ],
   "source": [
    "theta_rest = np.zeros(65)\n",
    "theta = np.hstack((theta,theta_rest))\n",
    "theta"
   ]
  },
  {
   "cell_type": "code",
   "execution_count": 9,
   "metadata": {
    "collapsed": false
   },
   "outputs": [
    {
     "data": {
      "text/plain": [
       "array([  2.20772008e-02,  -6.37181174e-02,   1.12772949e-01,\n",
       "         7.04520355e-02,  -1.09009356e-02,   4.53616188e-02,\n",
       "         3.39141233e-02,  -2.36632601e-02,   7.02751405e-03,\n",
       "        -1.93877208e-01,   1.04924810e-01,  -1.85323356e-01,\n",
       "        -3.12111428e-02,   1.20967261e-02,  -9.94723659e-02,\n",
       "        -1.60686100e-01,  -1.49592286e-01,   5.99392257e-03,\n",
       "        -1.04401145e-03,   2.07658036e-01,   5.02870829e-02,\n",
       "        -1.84002530e-01,  -4.29084717e-02,  -1.13360733e-02,\n",
       "         6.73238018e-02,  -1.99029098e-01,   1.69044646e-02,\n",
       "         9.26291047e-02,  -1.13095361e-01,  -8.14664480e-03,\n",
       "         4.61161400e-02,   1.30738569e-03,   1.10114611e-02,\n",
       "         1.08099383e-01,   8.29861092e-02,   2.67390339e-02,\n",
       "         8.89696859e-02,   2.23557234e-02,   1.07865061e-01,\n",
       "        -1.97952226e-01,   2.07363677e-02,  -3.30389553e-02,\n",
       "         6.41832134e-05,   1.23370660e-01,  -1.50741353e-01,\n",
       "         5.99967560e-02,   1.07690041e-01,   4.90780782e-03,\n",
       "         1.60535582e-02,  -4.77838759e-02,   1.31694328e-01,\n",
       "        -3.36410822e-02,  -5.35897618e-02,  -1.37984017e-01,\n",
       "         6.36345362e-03,   1.04793824e-01,   4.98739347e-02,\n",
       "         2.13864883e-02,   5.52873937e-02,  -7.71527978e-03,\n",
       "        -2.03818084e-01,  -7.45004546e-02,  -1.36219001e-01,\n",
       "         1.44642915e-01,  -3.59589892e-02,   2.89019720e-02,\n",
       "         8.34826029e-02,   8.36041213e-02,  -8.50166009e-02,\n",
       "         1.04689037e-02,  -1.19278705e-01,   1.49014662e-02,\n",
       "        -1.16010369e-01,  -5.35842306e-02,   9.98805007e-02,\n",
       "        -1.83228668e-01,   3.79827371e-03,  -1.62184135e-01,\n",
       "         5.26027778e-02,  -6.55316347e-02,   1.26596450e-01,\n",
       "         5.18734745e-02,   2.07865779e-02,  -2.30287144e-01,\n",
       "         1.36698476e-01,   7.89650855e-02,  -9.65605608e-02,\n",
       "         2.56079567e-03,  -1.23934762e-01,  -1.21804435e-01,\n",
       "         1.66090265e-01,  -1.10284486e-01,   2.24798593e-01,\n",
       "        -9.18680083e-03,   3.21233887e-04,  -1.88665114e-01,\n",
       "        -1.54231466e-01,   2.43756954e-01,  -2.24937902e-02,\n",
       "         6.60315180e-02,  -6.51867227e-02,  -8.39734634e-02,\n",
       "        -5.83855213e-03,  -3.32752076e-02,  -3.13214037e-02,\n",
       "         1.09025023e-01,   4.06835339e-02,   1.30893770e-01,\n",
       "         2.78196992e-02,   1.35944288e-01,  -2.21786714e-01,\n",
       "        -7.89876614e-02,  -2.44497170e-02,  -8.89522578e-03,\n",
       "        -2.84552138e-02,   3.93953576e-02,  -7.98644612e-02,\n",
       "        -1.21814080e-03,  -6.24447571e-03,   3.46327597e-02,\n",
       "        -5.10081356e-02,   6.44805786e-03,  -1.12276768e-02,\n",
       "         4.91197578e-02,  -9.15086215e-02,  -8.35846588e-02,\n",
       "        -6.81332269e-02,  -7.71101942e-02,  -7.36742039e-02,\n",
       "        -9.92977742e-02,   4.72076065e-02,   3.76224749e-02,\n",
       "         2.22143555e-02,  -7.52991868e-02,  -1.78099951e-01,\n",
       "        -1.42328103e-02,  -1.53923229e-01,  -9.52952074e-02,\n",
       "         9.43213180e-02,   6.67553733e-02,   1.05289527e-01,\n",
       "         4.08625153e-02,  -9.56802861e-04,  -1.01085309e-01,\n",
       "        -8.02232441e-02,   2.59049308e-03,   2.60921794e-02,\n",
       "        -6.85768159e-02,   1.18966508e-01,  -7.41795803e-02])"
      ]
     },
     "execution_count": 9,
     "metadata": {},
     "output_type": "execute_result"
    }
   ],
   "source": [
    "epsilon = 0.1 * np.random.randn(150) + 0\n",
    "epsilon"
   ]
  },
  {
   "cell_type": "code",
   "execution_count": 10,
   "metadata": {
    "collapsed": false
   },
   "outputs": [
    {
     "data": {
      "text/plain": [
       "array([ -8.4834258 ,  -9.72095104,   7.15223426,  -5.85974116,\n",
       "        13.97217553,   0.73681238,  -1.14462301,  -1.41830577,\n",
       "       -18.96994346,  -8.86983564,  -8.95898058,   6.67516784,\n",
       "        12.94622199,  11.53343747,  -7.5802547 ,   5.01647187,\n",
       "        13.68231368,   4.02188413,  11.18484557,   4.84552358,\n",
       "        20.91221873,   4.83371648,   9.56212864,  -8.1587667 ,\n",
       "       -12.24201188,   1.11357933,  -4.74771802,   2.3084843 ,\n",
       "        -3.09850053,  22.83466861,  -6.77166634,  15.06165252,\n",
       "       -11.5136915 ,   3.72707553,  -4.85225902, -18.06571958,\n",
       "        15.17186328,  14.50294128, -15.24996021,  10.34059218,\n",
       "         6.08248818,  12.37578358,  -7.29797322,   0.08754828,\n",
       "        -8.65413257,  12.25630603, -13.96877379,   6.77065696,\n",
       "       -11.11504354,   0.40737925,  -3.0704786 , -14.31818043,\n",
       "         7.56918919, -17.90244681,  -8.43344466,  10.98439151,\n",
       "        -4.74079482,  21.70615219,   6.87566206, -14.26070668,\n",
       "         5.15584876, -12.91612942,  -0.16551051,   6.04381439,\n",
       "       -11.89447669,  -3.3826048 ,   1.20861914,  -7.27501816,\n",
       "        11.26332256,   9.53949761,  10.15951019,  -0.02294197,\n",
       "        14.47040342,  -1.82192997,  -2.45285351,   0.97098648,\n",
       "        -7.9335351 ,   1.6152383 ,  -7.25287779,  -6.18422087,\n",
       "        -7.87638238,  -0.54507808,   5.00167793, -11.39878036,\n",
       "         3.33576064,   5.37181537, -12.5107139 ,   2.90260759,\n",
       "        13.54022936,  16.25412622,   9.21171703,   8.84665293,\n",
       "         5.7148384 ,  -4.8432562 ,  -0.63563261,   0.46244175,\n",
       "         5.87321237,  -3.34037046,  -5.82718306,  -2.12691938,\n",
       "         4.16771944,   7.97391639,  15.13156543,  -7.13511725,\n",
       "        -5.84635003,  -3.68076924,   8.21483872, -16.91050201,\n",
       "        -7.08244524,  -8.74951178,  16.72599126,  -9.40829175,\n",
       "        -0.50709054,  -0.30786855,   6.09102709,  17.37241631,\n",
       "         0.91511109,   6.8110391 , -12.68089498,  13.98137154,\n",
       "         3.81549807,  -0.94224457,  -9.60430622,  -9.82423908,\n",
       "        -1.22332821,  11.87262628,  -2.11387457,   1.44431951,\n",
       "         3.05674662, -14.75574254,  -4.62169212, -10.93943116,\n",
       "        -0.3995341 ,  -0.22382299,  16.72606469,  -8.47448476,\n",
       "       -22.58310376,   5.64631059,  13.01842858,   2.06959679,\n",
       "         1.88100541,   6.58672723,   8.94519264,   3.79934287,\n",
       "         6.51361635,  -4.6741614 ,  -3.13806261,   3.54022812,\n",
       "       -11.09069816, -11.29362147])"
      ]
     },
     "execution_count": 10,
     "metadata": {},
     "output_type": "execute_result"
    }
   ],
   "source": [
    "y = np.dot(X,theta) + epsilon\n",
    "y"
   ]
  },
  {
   "cell_type": "code",
   "execution_count": 11,
   "metadata": {
    "collapsed": true
   },
   "outputs": [],
   "source": [
    "from sklearn.cross_validation import train_test_split\n",
    "X_train, X_test, y_train, y_test = train_test_split(X, y, test_size=70, random_state=42)"
   ]
  },
  {
   "cell_type": "code",
   "execution_count": 12,
   "metadata": {
    "collapsed": true
   },
   "outputs": [],
   "source": [
    "X_test,X_validation,y_test,y_validation = train_test_split(X_test, y_test, test_size=50, random_state=42)"
   ]
  },
  {
   "cell_type": "code",
   "execution_count": 13,
   "metadata": {
    "collapsed": true
   },
   "outputs": [],
   "source": [
    "from scipy.optimize import minimize\n",
    "lambda_loss = np.zeros((11,2))\n",
    "lambda_theta = np.zeros((11,D))\n",
    "theta_learned = np.zeros(D)\n",
    "\n",
    "def ridge(Lambda):\n",
    "  def ridge_obj(theta):\n",
    "    return ((np.linalg.norm(np.dot(X_train,theta) - y_train))**2)/(2*N) + Lambda*(np.linalg.norm(theta))**2\n",
    "  return ridge_obj\n",
    "\n",
    "def compute_loss(theta):\n",
    "  return ((np.linalg.norm(np.dot(X_validation,theta) - y_validation))**2)/(2*N)\n",
    "\n",
    "for i in range(-5,6):\n",
    "  Lambda = 10**i;\n",
    "  theta_opt = minimize(ridge(Lambda), theta)\n",
    "  lambda_loss[i] = Lambda, compute_loss(theta_opt.x) \n",
    "  lambda_theta[i] = theta_opt.x\n",
    "\n",
    "least_loss_lambda = lambda_loss[np.argmin(lambda_loss,axis=0)[1],[0]]\n",
    "theta_learned = lambda_theta[np.argmin(lambda_loss,axis=0)[1]]\n",
    "#get the theta for the least_loss_lambda\n"
   ]
  },
  {
   "cell_type": "markdown",
   "metadata": {},
   "source": [
    "All values are non-zero"
   ]
  },
  {
   "cell_type": "code",
   "execution_count": 15,
   "metadata": {
    "collapsed": false
   },
   "outputs": [
    {
     "data": {
      "text/plain": [
       "array([  1.00791999e+01,   9.67717544e+00,   0.00000000e+00,\n",
       "         0.00000000e+00,   0.00000000e+00,   0.00000000e+00,\n",
       "         0.00000000e+00,   9.92444628e+00,   9.81893619e+00,\n",
       "         9.93268353e+00,   1.85648579e-01,   1.67937478e-02,\n",
       "         0.00000000e+00,   0.00000000e+00,   9.80102382e-02,\n",
       "         8.99378534e-02,   0.00000000e+00,   1.78024164e-01,\n",
       "         1.86708349e-01,   0.00000000e+00,   0.00000000e+00,\n",
       "         0.00000000e+00,   9.71913220e-02,   7.02681095e-02,\n",
       "         1.91023923e-01,   1.23810873e-01,   1.75223301e-01,\n",
       "         7.02959394e-02,   1.75584172e-02,   0.00000000e+00,\n",
       "         0.00000000e+00,   3.75805150e-02,   0.00000000e+00,\n",
       "         0.00000000e+00,   0.00000000e+00,   4.36521760e-02,\n",
       "         0.00000000e+00,   1.04866878e-02,   0.00000000e+00,\n",
       "         5.51773217e-03,   1.61093264e-01,   0.00000000e+00,\n",
       "         0.00000000e+00,   3.27327473e-02,   2.95101424e-01,\n",
       "         1.33066329e-01,   0.00000000e+00,   3.20474256e-02,\n",
       "         1.97271075e-01,   0.00000000e+00,   0.00000000e+00,\n",
       "         0.00000000e+00,   0.00000000e+00,   0.00000000e+00,\n",
       "         1.51456800e-01,   3.46876626e-02,   2.43295239e-01,\n",
       "         1.61263071e-01,   0.00000000e+00,   0.00000000e+00,\n",
       "         0.00000000e+00,   2.01969011e-03,   0.00000000e+00,\n",
       "         4.56652330e-02,   1.77511136e-01,   0.00000000e+00,\n",
       "         0.00000000e+00,   2.03365453e-01,   0.00000000e+00,\n",
       "         1.07390608e-01,   7.41072536e-02,   0.00000000e+00,\n",
       "         8.65648658e-02,   0.00000000e+00,   0.00000000e+00])"
      ]
     },
     "execution_count": 15,
     "metadata": {},
     "output_type": "execute_result"
    }
   ],
   "source": [
    "theta_learned[theta_learned < 10**-3] = 0\n",
    "theta_learned"
   ]
  },
  {
   "cell_type": "markdown",
   "metadata": {
    "collapsed": true
   },
   "source": [
    "Results after scaling the values to be > 10**-3"
   ]
  },
  {
   "cell_type": "code",
   "execution_count": 22,
   "metadata": {
    "collapsed": false
   },
   "outputs": [
    {
     "name": "stderr",
     "output_type": "stream",
     "text": [
      "/home/himaja/workspace/csml/venv/lib/python2.7/site-packages/sklearn/utils/__init__.py:93: DeprecationWarning: Function decision_function is deprecated;  and will be removed in 0.19.\n",
      "  warnings.warn(msg, category=DeprecationWarning)\n"
     ]
    },
    {
     "data": {
      "text/plain": [
       "array([  0.18883803,   4.84545163,  11.9991468 ,   5.6141756 ,\n",
       "         0.50217644,   1.62492728,  -9.77975702, -15.5829887 ,\n",
       "         1.71671529,  -5.52767969,  -8.23387802,   0.33239026,\n",
       "       -16.84078324,  -6.91791489,   1.65788672,  -2.36749634,\n",
       "         5.24736771,  -1.39195085,   0.78143092,   8.83954727,\n",
       "        -5.50729532,   3.29356812, -10.70117245,  14.40485843,\n",
       "        -7.90702421,  13.33098932, -16.11229878,   9.83261948,\n",
       "        11.72434576,  11.09884347,  -3.92270298,   4.81247937,\n",
       "       -14.08275775,  13.22960208, -22.42383295,  -2.02737051,\n",
       "        -0.52591935,   3.3914939 ,   6.36064956,   5.41576616,\n",
       "        -7.05943169,  -2.61523355,  -3.83534497,  17.10004971,\n",
       "       -11.19235955,   2.19116512, -13.84718133,   1.98043826,\n",
       "        -6.28911737, -12.79997906,   7.75434597,  11.30215334,\n",
       "         5.15127445,   8.67179488, -10.86802733,  10.99182041,\n",
       "       -15.87861452,  -0.47318072,   4.84084067,  19.88353145,\n",
       "         6.78854062, -12.36208725,  14.20548338,   2.11523812,\n",
       "        -8.10163517,   8.05507483,  -4.5865812 ,  -6.93244888,\n",
       "        -2.1675326 ,   0.84751007,   3.11910974,  -2.42389968,\n",
       "         0.79068949, -11.02774068,  20.51226006,   0.96421455,\n",
       "         8.7015367 ,  -6.91106327,   4.38435184,  13.6550622 ])"
      ]
     },
     "execution_count": 22,
     "metadata": {},
     "output_type": "execute_result"
    }
   ],
   "source": [
    "from sklearn.linear_model import Ridge\n",
    "clf = Ridge(alpha=1.0)\n",
    "clf.fit(X_train, y_train) \n",
    "clf.decision_function(X_train)"
   ]
  },
  {
   "cell_type": "code",
   "execution_count": null,
   "metadata": {
    "collapsed": true
   },
   "outputs": [],
   "source": []
  },
  {
   "cell_type": "code",
   "execution_count": null,
   "metadata": {
    "collapsed": true
   },
   "outputs": [],
   "source": []
  },
  {
   "cell_type": "code",
   "execution_count": null,
   "metadata": {
    "collapsed": true
   },
   "outputs": [],
   "source": []
  },
  {
   "cell_type": "code",
   "execution_count": null,
   "metadata": {
    "collapsed": true
   },
   "outputs": [],
   "source": []
  },
  {
   "cell_type": "code",
   "execution_count": null,
   "metadata": {
    "collapsed": true
   },
   "outputs": [],
   "source": []
  },
  {
   "cell_type": "code",
   "execution_count": null,
   "metadata": {
    "collapsed": true
   },
   "outputs": [],
   "source": []
  },
  {
   "cell_type": "code",
   "execution_count": null,
   "metadata": {
    "collapsed": true
   },
   "outputs": [],
   "source": []
  },
  {
   "cell_type": "code",
   "execution_count": null,
   "metadata": {
    "collapsed": true
   },
   "outputs": [],
   "source": []
  },
  {
   "cell_type": "code",
   "execution_count": null,
   "metadata": {
    "collapsed": true
   },
   "outputs": [],
   "source": [
    "\n"
   ]
  },
  {
   "cell_type": "code",
   "execution_count": null,
   "metadata": {
    "collapsed": true
   },
   "outputs": [],
   "source": []
  },
  {
   "cell_type": "code",
   "execution_count": null,
   "metadata": {
    "collapsed": true
   },
   "outputs": [],
   "source": []
  },
  {
   "cell_type": "code",
   "execution_count": null,
   "metadata": {
    "collapsed": true
   },
   "outputs": [],
   "source": []
  },
  {
   "cell_type": "code",
   "execution_count": null,
   "metadata": {
    "collapsed": true
   },
   "outputs": [],
   "source": []
  },
  {
   "cell_type": "code",
   "execution_count": null,
   "metadata": {
    "collapsed": true
   },
   "outputs": [],
   "source": []
  },
  {
   "cell_type": "code",
   "execution_count": null,
   "metadata": {
    "collapsed": true
   },
   "outputs": [],
   "source": []
  },
  {
   "cell_type": "code",
   "execution_count": null,
   "metadata": {
    "collapsed": true
   },
   "outputs": [],
   "source": []
  },
  {
   "cell_type": "code",
   "execution_count": null,
   "metadata": {
    "collapsed": true
   },
   "outputs": [],
   "source": []
  },
  {
   "cell_type": "code",
   "execution_count": null,
   "metadata": {
    "collapsed": true
   },
   "outputs": [],
   "source": []
  },
  {
   "cell_type": "code",
   "execution_count": null,
   "metadata": {
    "collapsed": true
   },
   "outputs": [],
   "source": []
  },
  {
   "cell_type": "code",
   "execution_count": null,
   "metadata": {
    "collapsed": true
   },
   "outputs": [],
   "source": []
  },
  {
   "cell_type": "code",
   "execution_count": null,
   "metadata": {
    "collapsed": true
   },
   "outputs": [],
   "source": []
  },
  {
   "cell_type": "code",
   "execution_count": null,
   "metadata": {
    "collapsed": true
   },
   "outputs": [],
   "source": []
  },
  {
   "cell_type": "code",
   "execution_count": null,
   "metadata": {
    "collapsed": true
   },
   "outputs": [],
   "source": []
  },
  {
   "cell_type": "code",
   "execution_count": null,
   "metadata": {
    "collapsed": true
   },
   "outputs": [],
   "source": []
  },
  {
   "cell_type": "code",
   "execution_count": null,
   "metadata": {
    "collapsed": true
   },
   "outputs": [],
   "source": []
  },
  {
   "cell_type": "code",
   "execution_count": null,
   "metadata": {
    "collapsed": true
   },
   "outputs": [],
   "source": []
  },
  {
   "cell_type": "code",
   "execution_count": null,
   "metadata": {
    "collapsed": true
   },
   "outputs": [],
   "source": []
  },
  {
   "cell_type": "code",
   "execution_count": null,
   "metadata": {
    "collapsed": true
   },
   "outputs": [],
   "source": []
  },
  {
   "cell_type": "code",
   "execution_count": null,
   "metadata": {
    "collapsed": true
   },
   "outputs": [],
   "source": []
  },
  {
   "cell_type": "code",
   "execution_count": null,
   "metadata": {
    "collapsed": true
   },
   "outputs": [],
   "source": []
  },
  {
   "cell_type": "code",
   "execution_count": null,
   "metadata": {
    "collapsed": true
   },
   "outputs": [],
   "source": []
  },
  {
   "cell_type": "code",
   "execution_count": null,
   "metadata": {
    "collapsed": true
   },
   "outputs": [],
   "source": []
  },
  {
   "cell_type": "code",
   "execution_count": null,
   "metadata": {
    "collapsed": true
   },
   "outputs": [],
   "source": []
  },
  {
   "cell_type": "code",
   "execution_count": null,
   "metadata": {
    "collapsed": true
   },
   "outputs": [],
   "source": []
  },
  {
   "cell_type": "code",
   "execution_count": null,
   "metadata": {
    "collapsed": true
   },
   "outputs": [],
   "source": []
  },
  {
   "cell_type": "code",
   "execution_count": null,
   "metadata": {
    "collapsed": true
   },
   "outputs": [],
   "source": []
  },
  {
   "cell_type": "code",
   "execution_count": null,
   "metadata": {
    "collapsed": true
   },
   "outputs": [],
   "source": []
  },
  {
   "cell_type": "code",
   "execution_count": null,
   "metadata": {
    "collapsed": true
   },
   "outputs": [],
   "source": []
  }
 ],
 "metadata": {
  "kernelspec": {
   "display_name": "Python 2",
   "language": "python",
   "name": "python2"
  },
  "language_info": {
   "codemirror_mode": {
    "name": "ipython",
    "version": 2
   },
   "file_extension": ".py",
   "mimetype": "text/x-python",
   "name": "python",
   "nbconvert_exporter": "python",
   "pygments_lexer": "ipython2",
   "version": "2.7.6"
  }
 },
 "nbformat": 4,
 "nbformat_minor": 0
}
