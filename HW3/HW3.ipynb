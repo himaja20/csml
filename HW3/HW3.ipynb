{
 "cells": [
  {
   "cell_type": "code",
   "execution_count": 2,
   "metadata": {
    "collapsed": true
   },
   "outputs": [],
   "source": [
    "%matplotlib nbagg\n",
    "\n",
    "import load\n",
    "import pickle\n",
    "import util\n",
    "import matplotlib.pyplot as plt\n",
    "import numpy as np\n",
    "import collections as col\n",
    "import random\n",
    "from sklearn.cross_validation import train_test_split\n"
   ]
  },
  {
   "cell_type": "code",
   "execution_count": 3,
   "metadata": {
    "collapsed": false
   },
   "outputs": [],
   "source": [
    "#review = load.shuffle_data()\n",
    "#pickle.dump(review,open(\"processed_text.p\",\"wb\"))\n",
    "#pickle.dump(labels,open(\"label_data.p\",\"wb\"))\n",
    "X = pickle.load(open(\"processed_text.p\", \"rb\" ))\n",
    "#y = pickle.load(open(\"label_data.p\",\"rb\"))"
   ]
  },
  {
   "cell_type": "code",
   "execution_count": 4,
   "metadata": {
    "collapsed": false
   },
   "outputs": [],
   "source": [
    "train,test = train_test_split(X,test_size=0.25, random_state=42)\n"
   ]
  },
  {
   "cell_type": "markdown",
   "metadata": {
    "collapsed": true
   },
   "source": [
    "### Sparse Representation of Data"
   ]
  },
  {
   "cell_type": "markdown",
   "metadata": {},
   "source": [
    "#### Construct Complete Dictionary excluding stop words (words appearing less than 3 times across the corpus)"
   ]
  },
  {
   "cell_type": "code",
   "execution_count": 5,
   "metadata": {
    "collapsed": true
   },
   "outputs": [],
   "source": [
    "full_dict = col.Counter()\n",
    "for k in train:\n",
    "    for elem in k: \n",
    "        full_dict[elem] = full_dict[elem] + 1\n"
   ]
  },
  {
   "cell_type": "code",
   "execution_count": 6,
   "metadata": {
    "collapsed": false
   },
   "outputs": [],
   "source": [
    "def bow_of_example(example):\n",
    "    c = col.Counter()\n",
    "    for elem in range(len(example) -1):\n",
    "        c[example[elem]] = c[example[elem]] + 1\n",
    "\n",
    "    return c\n"
   ]
  },
  {
   "cell_type": "code",
   "execution_count": 7,
   "metadata": {
    "collapsed": false
   },
   "outputs": [],
   "source": [
    "i = 0\n",
    "k = []\n",
    "for example in train:\n",
    "    k.append(bow_of_example(example))\n",
    "    i = i + 1\n"
   ]
  },
  {
   "cell_type": "code",
   "execution_count": 8,
   "metadata": {
    "collapsed": false
   },
   "outputs": [
    {
     "name": "stdout",
     "output_type": "stream",
     "text": [
      "1500\n"
     ]
    }
   ],
   "source": [
    "i = 0\n",
    "y = []\n",
    "for example in train:\n",
    "    y.append(example[len(example)-1])\n",
    "    i = i + 1\n",
    "\n",
    "print len(y)"
   ]
  },
  {
   "cell_type": "markdown",
   "metadata": {
    "collapsed": true
   },
   "source": [
    "### Pegasos Algorithm"
   ]
  },
  {
   "cell_type": "code",
   "execution_count": 9,
   "metadata": {
    "collapsed": true
   },
   "outputs": [],
   "source": [
    "def pegasos(lamda, w, X_shuf,y_shuf,max_epochs):\n",
    "    epoch = 0\n",
    "    t = 0\n",
    "    w_old = col.Counter()\n",
    "    while epoch <= max_epochs:\n",
    "        #data = list(zip(k,y))\n",
    "        #random.shuffle(data)\n",
    "        #X_shuf,y_shuf = zip(*data) \n",
    "        for j in range(len(X_shuf)):\n",
    "            t = t+1\n",
    "            eta_t = 1/(lamda*t)\n",
    "            if (y_shuf[j]*util.dotProduct(w,X_shuf[j]) < 1):\n",
    "                util.increment(w,-(eta_t*lamda), w)\n",
    "                util.increment(w,eta_t*y_shuf[j],X_shuf[j])\n",
    "            else:\n",
    "                util.increment(w,-(eta_t*lamda), w)\n",
    "        epoch = epoch + 1\n",
    "    return w\n"
   ]
  },
  {
   "cell_type": "code",
   "execution_count": 10,
   "metadata": {
    "collapsed": true
   },
   "outputs": [],
   "source": [
    "def pegasos_1(lamda, w, X_shuf,y_shuf,max_epochs):\n",
    "    epoch = 0\n",
    "    t = 0\n",
    "    w_old = col.Counter()\n",
    "    while epoch <= max_epochs:\n",
    "        #data = list(zip(k,y))\n",
    "        #random.shuffle(data)\n",
    "        #X_shuf,y_shuf = zip(*data) \n",
    "        j = 0\n",
    "        for x in X_shuf:\n",
    "            t = t+1\n",
    "            eta_t = 1/(lamda*t)\n",
    "            if (y_shuf[j]*util.dotProduct(w,x) < 1):\n",
    "                util.increment(w,-(eta_t*lamda), w)\n",
    "                util.increment(w,eta_t*y_shuf[j],x)\n",
    "            else:\n",
    "                util.increment(w,-(eta_t*lamda), w)\n",
    "            j = j + 1\n",
    "        epoch = epoch + 1\n",
    "    return w"
   ]
  },
  {
   "cell_type": "code",
   "execution_count": 11,
   "metadata": {
    "collapsed": false
   },
   "outputs": [
    {
     "name": "stdout",
     "output_type": "stream",
     "text": [
      "411.25281\n"
     ]
    }
   ],
   "source": [
    "#print k[0]\n",
    "import time\n",
    "w = col.Counter()\n",
    "#w = pegasos(0.01,w,k,y,5)\n",
    "%load_ext line_profiler\n",
    "%lprun -f pegasos_1 pegasos_1(0.01, w, k, y, 1)\n",
    "\n",
    "print time.clock()\n",
    "#print len(l)\n",
    "pickle.dump(w,open(\"weight.p\",\"wb\"))"
   ]
  },
  {
   "cell_type": "code",
   "execution_count": 19,
   "metadata": {
    "collapsed": false
   },
   "outputs": [],
   "source": [
    "def pegasos_fast(lamda, w, X_shuf,y_shuf,max_epochs):\n",
    "    epoch = 0\n",
    "    t = 1\n",
    "    s = 1\n",
    "    W_rep = col.Counter()\n",
    "    w = col.Counter()\n",
    "    util.increment(w,s,W_rep)\n",
    "    #w = s * W_rep.values()\n",
    "    while epoch <= max_epochs:\n",
    "        for j in range(len(X_shuf)):\n",
    "            t = t+1\n",
    "            eta_t = 1/(lamda*t)\n",
    "            if (y_shuf[j]*util.dotProduct(w,X_shuf[j]) < 1):\n",
    "                s = (1 - (eta_t*lamda))*s\n",
    "                if (s == 0):\n",
    "                    s = 1\n",
    "                    W_rep = col.Counter()\n",
    "                    w.clear()\n",
    "                    continue\n",
    "                util.increment(W_rep,(1/s)*(eta_t*y_shuf[j]),X_shuf[j])\n",
    "                w.clear()\n",
    "                util.increment(w,s,W_rep)\n",
    "        epoch = epoch + 1\n",
    "        \n",
    "    return w"
   ]
  },
  {
   "cell_type": "code",
   "execution_count": 20,
   "metadata": {
    "collapsed": false
   },
   "outputs": [
    {
     "name": "stdout",
     "output_type": "stream",
     "text": [
      "1456437153.03\n"
     ]
    }
   ],
   "source": [
    "#print k[0]\n",
    "import time\n",
    "w = col.Counter()\n",
    "%lprun -f pegasos_fast pegasos_fast(0.01, w, k, y, 5)\n",
    "#w = pegasos_fast(0.01,w,k,y,5)\n",
    "print time.time()\n",
    "#print w\n",
    "pickle.dump(w,open(\"weight.p\",\"wb\"))"
   ]
  },
  {
   "cell_type": "code",
   "execution_count": null,
   "metadata": {
    "collapsed": true
   },
   "outputs": [],
   "source": []
  }
 ],
 "metadata": {
  "kernelspec": {
   "display_name": "Python 2",
   "language": "python",
   "name": "python2"
  },
  "language_info": {
   "codemirror_mode": {
    "name": "ipython",
    "version": 2
   },
   "file_extension": ".py",
   "mimetype": "text/x-python",
   "name": "python",
   "nbconvert_exporter": "python",
   "pygments_lexer": "ipython2",
   "version": "2.7.6"
  }
 },
 "nbformat": 4,
 "nbformat_minor": 0
}
